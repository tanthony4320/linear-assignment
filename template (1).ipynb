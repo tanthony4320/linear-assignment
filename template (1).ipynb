{
    "cells": [
        {
            "cell_type": "markdown",
            "metadata": {},
            "source": [
                "# Linear algebra Homework assignment 2"
            ]
        },
        {
            "cell_type": "code",
            "execution_count": 2,
            "metadata": {},
            "outputs": [],
            "source": [
                "import numpy as np"
            ]
        },
        {
            "cell_type": "markdown",
            "metadata": {},
            "source": [
                "## Problem 1\n",
                "Show the encoded results for the $x$ given in the problem 1"
            ]
        },
        {
            "cell_type": "code",
            "execution_count": 3,
            "metadata": {},
            "outputs": [],
            "source": [
                "# [TODO] Write down your answer for 1(a) in the variable `answer_1\n",
                "answer_1 = np.array([1, 0, 1, 0, 2, 1, 2]).T\n",
                "\n",
                "\n",
                "# [TODO] Write down your answer for 1(b) in the variable `answer_2`\n",
                "answer_2 = np.array([0, 0, 1, 1, 1, 1, 2]).T\n",
                "\n"
            ]
        },
        {
            "cell_type": "code",
            "execution_count": 4,
            "metadata": {},
            "outputs": [],
            "source": [
                "###### DO NOT EDIT THIS BLOCK !!! ######\n",
                "# >>>>>> tag: problem-1-test\n",
                "\n",
                "def test_1():\n",
                "    \"\"\" This function is used to test the correctness of your answers of problem 1,\n",
                "        which would be implemented by TA after you finish the assignment. \"\"\"\n",
                "    \n",
                "\n",
                "test_result_1 = test_1()\n",
                "test_result_1"
            ]
        },
        {
            "cell_type": "markdown",
            "metadata": {},
            "source": [
                "## Problem 2\n",
                "* (a) For $x \\in F^4$, show that $y = Ax$ is the same as the encoded result using the set method.\n",
                "    * [TODO] Write down your proof on the report\n",
                "* (b) Based on the fact in part (a), implement the function `encode_hamming_7_4`"
            ]
        },
        {
            "cell_type": "code",
            "execution_count": 17,
            "metadata": {},
            "outputs": [],
            "source": [
                "def encode_hamming_7_4(x: np.ndarray):\n",
                "    \"\"\"\n",
                "        Encodes a 4-bit input array using the Hamming (7,4) code.\n",
                "        \n",
                "        Parameters:\n",
                "            x (np.ndarray): A 4-bit numpy array to be encoded. The array should have a size of 4.\n",
                "        Returns:\n",
                "            np.ndarray: A 7-bit numpy array representing the encoded input.\n",
                "        Raises:\n",
                "            ValueError: If the input array does not have a size of 4.\n",
                "        Example:\n",
                "            >>> encode_hamming_7_4(np.array([1, 0, 1, 1]))\n",
                "            array([1, 0, 1, 1, 0, 1, 0])\n",
                "    \"\"\"\n",
                "    \n",
                "    \n",
                "    # x should be a 4-bit array\n",
                "    if x.size != 4:\n",
                "        raise ValueError(\"Input should be a 4-bit array, but the size of x is {}\".format(x.shape))\n",
                "    \n",
                "    # [TODO] Implement this function\n",
                "    # Hint: What is the relationship between the special addition (e.g. 0+1=1, 1+1=0 defined in the problem)\n",
                "    # and the modulo operation\n",
                "    A = np.array([\n",
                "        [1, 0, 0, 0],\n",
                "        [0, 1, 0, 0],\n",
                "        [0, 0, 1, 0],\n",
                "        [0, 0, 0, 1],\n",
                "        [1, 1, 1, 0],\n",
                "        [1, 1, 0, 1],\n",
                "        [1, 0, 1, 1]\n",
                "    ])\n",
                "    \n",
                "    \n",
                "    return np.dot(A, x) % 2"
            ]
        },
        {
            "cell_type": "code",
            "execution_count": 19,
            "metadata": {},
            "outputs": [
                {
                    "name": "stdout",
                    "output_type": "stream",
                    "text": [
                        "Original data (x):  [1 0 1 1]\n",
                        "Hamming code of data (encoded_x):  [1 0 1 1 0 0 1]\n"
                    ]
                }
            ],
            "source": [
                "# Test your implementation\n",
                "x = np.array([1, 0, 1, 1])\n",
                "encoded_x = encode_hamming_7_4(x)\n",
                "\n",
                "print(\"Original data (x): \", x)\n",
                "print(\"Hamming code of data (encoded_x): \", encoded_x)"
            ]
        },
        {
            "cell_type": "code",
            "execution_count": 12,
            "metadata": {},
            "outputs": [],
            "source": [
                "###### DO NOT EDIT THIS BLOCK !!! ######\n",
                "# >>>>>> tag: problem-2-encode_hamming_7_4-test\n",
                "\n",
                "\n",
                "def test_2_encode_hamming_7_4_test():\n",
                "    \"\"\" This function is used to test the correctness of `encode_hamming_7_4`,\n",
                "        which would be implemented by TA after you finish the assignment. \"\"\"\n",
                "    \n",
                "\n",
                "test_result_2 = test_2_encode_hamming_7_4_test()\n",
                "test_result_2"
            ]
        },
        {
            "cell_type": "markdown",
            "metadata": {},
            "source": [
                "## Problem 3\n",
                "* (a) Suppose the null space of $A^T$ is $span(h_1, h_2, \\dots, h_k)$ and let matrix H defined as below. Show that the encoded message $y$ does not have any single bit error if and only if $Hy = 0$. A single bit error of $y$ is $y+e_i$, where $e_i$ is the $i$-th column vector of an identity matrix $I$.\n",
                "    $$ H=\\begin{bmatrix}\n",
                "            h_1^T\\\\\n",
                "            h_2^T \\\\\n",
                "            \\vdots\\\\\n",
                "            h_k^T\n",
                "            \\end{bmatrix}.\n",
                "    $$\n",
                "    * [TODO] Write down your proof in your report\n",
                "* (b) Show that with single bit error, if $Hy = v \\neq 0$, $v$ must be a column vector of $H$. Suppose $v$ is the $i$-th column vector of $H$, the $i$-th element of $x$ has an error\n",
                "    * [TODO] Write down your proof in your report\n",
                "* (c) Based on the facts proven in part (a) and part (b), implement the function `check_hamming_7_4` and `fix_hamming_7_4`"
            ]
        },
        {
            "cell_type": "code",
            "execution_count": 7,
            "metadata": {},
            "outputs": [],
            "source": [
                "# Some helper functions for creating bit array and adding single bit error\n",
                "\n",
                "def convert_bit_array_to_btyes(bit_array: np.ndarray):\n",
                "    \"\"\"\n",
                "        Convert a bit array to bytes.\n",
                "        This function takes an array of bits (containing only 0s and 1s) and converts it into a byte array.\n",
                "        If the length of the bit array is not a multiple of 8, it will be padded with zeros at the end to make it a multiple of 8.\n",
                "        \n",
                "        Parameters:\n",
                "            bit_array (numpy.ndarray): A numpy array containing bits (0s and 1s).\n",
                "        Returns:\n",
                "            bytes: A byte array representation of the input bit array.\n",
                "    \"\"\"\n",
                "    \n",
                "    # bit array contains only 0 and 1\n",
                "    # If the length of bit_array is not a multiple of 8, it will be padded with zeros at the end\n",
                "    return np.packbits(bit_array).tobytes()\n",
                "\n",
                "def create_single_bit_error():\n",
                "    \"\"\"\n",
                "        Generates a single-bit error vector for a 7-bit codeword.\n",
                "        This function creates a 7-element numpy array initialized to zeros.\n",
                "        It then randomly selects one of the 7 positions and sets it to 1,\n",
                "        simulating a single-bit error in a 7-bit codeword.\n",
                "        \n",
                "        Returns:\n",
                "            numpy.ndarray: A 7-element array with a single bit set to 1 and the rest set to 0.\n",
                "    \"\"\"\n",
                "\n",
                "    error = np.zeros(7)\n",
                "    error[np.random.randint(7)] = 1\n",
                "    return error\n",
                "\n",
                "def add_single_bit_error(x: np.ndarray, error_prob: float=0.5):\n",
                "    \"\"\"\n",
                "        Introduces a single-bit error to a 7-bit array with a given probability.\n",
                "        \n",
                "        Parameters:\n",
                "            x (np.ndarray): A 7-bit numpy array to which the error will be added.\n",
                "            error_prob (float): The probability of introducing a single-bit error. Default is 0.5.\n",
                "        Returns:\n",
                "            np.ndarray: The 7-bit array with a single-bit error introduced based on the given probability.\n",
                "        Raises:\n",
                "            ValueError: If the input array is not a 7-bit array.\n",
                "    \"\"\"\n",
                "    \n",
                "    # x should be a 4-bit array\n",
                "    if x.size != 7:\n",
                "        raise ValueError(\"Input should be a 7-bit array, but the size of x is {}\".format(x.shape))\n",
                "    \n",
                "    if np.random.rand() < error_prob:\n",
                "        return (x + create_single_bit_error()) % 2\n",
                "    else:\n",
                "        return x"
            ]
        },
        {
            "cell_type": "code",
            "execution_count": 8,
            "metadata": {},
            "outputs": [],
            "source": [
                "def check_hamming_7_4(y: np.ndarray):\n",
                "    \"\"\"\n",
                "        Checks the Hamming (7,4) code for a given 7-bit array.\n",
                "        This function takes a 7-bit array as input and returns a 3-bit array that represents \n",
                "        the result of the Hamming (7,4) parity check matrix multiplied by the input array.\n",
                "        The result can be used to detect and correct single-bit errors in the input array.\n",
                "    \n",
                "        Parameters:\n",
                "            y (np.ndarray): A 7-bit numpy array representing the input codeword.\n",
                "        Returns:\n",
                "            np.ndarray: A 3-bit numpy array representing the result of the parity check.\n",
                "        Raises:\n",
                "            ValueError: If the input array is not 7 bits in size.\n",
                "    \"\"\"\n",
                "    \n",
                "    \n",
                "    # x should be a 7-bit array\n",
                "    if y.size != 7:\n",
                "        raise ValueError(\"Input should be a 7-bit array, but the size of x is {}\".format(x.shape))\n",
                "    \n",
                "    # [TODO] Implement this function by returning the 3-bit array Hy\n",
                "    # Hint: What is the relationship between the special addition (e.g. 0+1=1, 1+1=0 defined in the problem)\n",
                "    # and the modulo operation?\n",
                "    \n",
                "    H = np.array([\n",
                "        [1, 1, 1, 0, 1, 0, 0],\n",
                "        [1, 1, 0, 1, 0, 1, 0],\n",
                "        [1, 0, 1, 1, 0, 0, 1]\n",
                "    ])\n",
                "    \n",
                "    return np.dot(H, y) % 2\n",
                "\n",
                "def fix_hamming_7_4(y: np.ndarray):\n",
                "    \"\"\"\n",
                "        Corrects a 7-bit Hamming (7,4) encoded array and returns the corrected 4-bit data.\n",
                "    \n",
                "        Parameters:\n",
                "            y (np.ndarray): A 7-bit numpy array representing the Hamming (7,4) encoded data.\n",
                "        Returns:\n",
                "            np.ndarray: A 4-bit numpy array representing the corrected data.\n",
                "        Raises:\n",
                "            ValueError: If the input array is not of size 7.\n",
                "        Notes:\n",
                "            This function assumes that the input array `y` is a Hamming (7,4) encoded array.\n",
                "            It detects and corrects a single-bit error in the 7-bit array, if present, and\n",
                "            returns the corrected 4-bit data.\n",
                "    \"\"\"\n",
                "    \n",
                "    # x should be a 7-bit array\n",
                "    if y.size != 7:\n",
                "        raise ValueError(\"Input should be a 7-bit array, but the size of x is {}\".format(y.shape))\n",
                "    \n",
                "    # Make a copy of the input array to avoid modifying the original array\n",
                "    y = y.copy()\n",
                "    \n",
                "    # Compute the 3-bit array Hy\n",
                "    error_indicator = check_hamming_7_4(y).astype(int)\n",
                "    \n",
                "    # [TODO] Find out where is the error, leave it as -1 if there is no error\n",
                "    error_sum = error_indicator[0] * 4 + error_indicator[1] * 2 + error_indicator[2] * 1\n",
                "    error_index = error_sum - 1 if error_sum > 0 else -1\n",
                "    \n",
                "    # Correct it if there is an error\n",
                "    if error_index != -1:\n",
                "        # [TODO] Correct that bit\n",
                "        y[error_index] = (y[error_index] + 1) % 2\n",
                "    \n",
                "    return y[:4]"
            ]
        },
        {
            "cell_type": "code",
            "execution_count": 9,
            "metadata": {},
            "outputs": [
                {
                    "name": "stdout",
                    "output_type": "stream",
                    "text": [
                        "Original data (x):  [1 0 1 1]\n",
                        "Hamming code (y):  [1 0 1 1 0 0 1]\n",
                        "Corrupted data (corrupt_y):  [1 0 1 1 0 0 1]\n",
                        "Corrected data (corrected_x):  [1 0 1 1]\n"
                    ]
                }
            ],
            "source": [
                "# Test the functions\n",
                "x = np.array([1, 0, 1, 1])\n",
                "y = encode_hamming_7_4(x)\n",
                "corrupt_y = add_single_bit_error(y)\n",
                "corrected_x = fix_hamming_7_4(corrupt_y)\n",
                "\n",
                "print(\"Original data (x): \", x)\n",
                "print(\"Hamming code (y): \", y)\n",
                "print(\"Corrupted data (corrupt_y): \", corrupt_y)\n",
                "print(\"Corrected data (corrected_x): \", corrected_x)"
            ]
        },
        {
            "cell_type": "code",
            "execution_count": 10,
            "metadata": {},
            "outputs": [
                {
                    "data": {
                        "text/plain": [
                            "True"
                        ]
                    },
                    "execution_count": 10,
                    "metadata": {},
                    "output_type": "execute_result"
                }
            ],
            "source": [
                "###### DO NOT EDIT THIS BLOCK !!! ######\n",
                "# >>>>>> tag: problem-3-check-fix-hamming-7-4-test\n",
                "\n",
                "\n",
                "def test_3_check_fix_hamming_7_4_test():\n",
                "    \"\"\" This function is used to test the correctness of `check_hamming_7_4` and `fix_hamming_7_4`,\n",
                "        which would be implemented by TA after you finish the assignment. \"\"\"\n",
                "    \n",
                "\n",
                "test_result_3 = test_3_check_fix_hamming_7_4_test()\n",
                "test_result_3"
            ]
        },
        {
            "cell_type": "markdown",
            "metadata": {},
            "source": [
                "## Problem 4\n",
                "* (a) Fix the corrupt file by the function implemented above\n",
                "* (b) Answer the question in the corrupt file\n",
                "    * [TODO] Answer the question hided in the corrupt file in the report"
            ]
        },
        {
            "cell_type": "code",
            "execution_count": 2,
            "metadata": {},
            "outputs": [],
            "source": [
                "# Some helper functions for reading bits from a file\n",
                "def read_bits(filename: str, num_bits: int):\n",
                "    \"\"\"\n",
                "        Reads a binary file and yields chunks of bits of a specified length.\n",
                "        \n",
                "        Parameters:\n",
                "            filename (str): The path to the binary file to read.\n",
                "            num_bits (int): The number of bits to yield in each chunk.\n",
                "        Yields:\n",
                "            numpy.ndarray: An array of bits of length `num_bits`.\n",
                "        Example:\n",
                "            for bits in read_bits(\"example.bin\", 4):\n",
                "                print(bits)\n",
                "        Note:\n",
                "            If the number of bits in the file is not a multiple of `num_bits`, the last chunk (incomplete chunk) would be ignored.\n",
                "    \"\"\"\n",
                "    \n",
                "    \n",
                "    with open(filename, \"rb\") as f:\n",
                "        file_in_bytes = f.read()\n",
                "        \n",
                "        # extract the 4-bit arrays from the line\n",
                "        bits_array = np.unpackbits(np.frombuffer(file_in_bytes, dtype=np.uint8))\n",
                "    \n",
                "    bit_offset = 0\n",
                "    bit_length = bits_array.shape[0]\n",
                "    \n",
                "    while bit_offset + num_bits <= bit_length:\n",
                "        yield bits_array[bit_offset:bit_offset + num_bits]\n",
                "        bit_offset += num_bits"
            ]
        },
        {
            "cell_type": "code",
            "execution_count": 3,
            "metadata": {},
            "outputs": [],
            "source": [
                "# The function used to fix a corrupt file\n",
                "def fix_corrupt_file(source_file: str, dest_file: str):\n",
                "    \"\"\"\n",
                "        Fixes a corrupt file using Hamming (7,4) error correction code and writes the corrected data to a new file.\n",
                "        \n",
                "        Parameters:\n",
                "            source_file (str): The path to the source file containing the corrupt data.\n",
                "            dest_file (str): The path to the destination file where the corrected data will be written.\n",
                "        Notes:\n",
                "            - This function reads 16-bit chunks from the source file.\n",
                "            - Each 16-bit chunk is split into two 7-bit arrays, ignoring the 7th and 15th bits.\n",
                "            - The 7-bit arrays are corrected using the Hamming (7,4) error correction code.\n",
                "            - The corrected 4-bit arrays are concatenated and written to the destination file as bytes.\n",
                "    \"\"\"\n",
                "    \n",
                "    with open(dest_file, \"wb\") as fw:\n",
                "        for bits in read_bits(source_file, 16):\n",
                "            # [TODO] Check the 2 7-bit array together to get 2 final 4-bit arrays\n",
                "            # ignore the 7-th bits and 15-th bits\n",
                "            # Hint: use the `fix_hamming_7_4` function\n",
                "            first_7_bits = bits[0:7]\n",
                "            second_7_bits = bits[8:15]\n",
                "\n",
                "            fixed_first_4_bits = fix_hamming_7_4(first_7_bits)\n",
                "            fixed_last_4_bits = fix_hamming_7_4(second_7_bits)\n",
                "            \n",
                "            # Concat them together\n",
                "            fixed_8_bits = np.concatenate([fixed_first_4_bits, fixed_last_4_bits])\n",
                "            \n",
                "            # Write 2 fixed 4-bit arrays to the file (which is 1 byte)\n",
                "            orig_content = convert_bit_array_to_btyes(fixed_8_bits.astype(np.byte))\n",
                "            fw.write(orig_content)"
            ]
        },
        {
            "cell_type": "code",
            "execution_count": null,
            "metadata": {},
            "outputs": [],
            "source": [
                "# [TODO] Write down the name of the corrupt file and the destination file\n",
                "corrupt_file_name = \"C:/Users/tanth/OneDrive/Desktop/assign/corrupt_110000270.pdf\"\n",
                "destin_file_name = \"fix_110000270.pdf\"\n",
                "\n",
                "\n",
                "fix_corrupt_file(corrupt_file_name, destin_file_name)"
            ]
        }
    ],
    "metadata": {
        "kernelspec": {
            "display_name": "Python 3",
            "language": "python",
            "name": "python3"
        },
        "language_info": {
            "codemirror_mode": {
                "name": "ipython",
                "version": 3
            },
            "file_extension": ".py",
            "mimetype": "text/x-python",
            "name": "python",
            "nbconvert_exporter": "python",
            "pygments_lexer": "ipython3",
            "version": "3.12.6"
        }
    },
    "nbformat": 4,
    "nbformat_minor": 2
}
